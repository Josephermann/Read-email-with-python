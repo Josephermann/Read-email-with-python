{
 "cells": [
  {
   "cell_type": "code",
   "execution_count": 1,
   "id": "stock-rally",
   "metadata": {
    "ExecuteTime": {
     "end_time": "2021-03-30T11:40:53.726734Z",
     "start_time": "2021-03-30T11:40:53.691715Z"
    }
   },
   "outputs": [],
   "source": [
    "#import imaplib, email\n",
    "from imap_tools import MailBox\n",
    "import os \n",
    "import datetime\n",
    "from settings import config\n",
    "import rarfile\n",
    "from pathlib import Path"
   ]
  },
  {
   "cell_type": "code",
   "execution_count": 2,
   "id": "powered-explosion",
   "metadata": {
    "ExecuteTime": {
     "end_time": "2021-03-30T11:40:54.720517Z",
     "start_time": "2021-03-30T11:40:54.717532Z"
    }
   },
   "outputs": [],
   "source": [
    "params = config()"
   ]
  },
  {
   "cell_type": "code",
   "execution_count": 3,
   "id": "early-plastic",
   "metadata": {
    "ExecuteTime": {
     "end_time": "2021-03-30T11:40:55.424181Z",
     "start_time": "2021-03-30T11:40:55.413191Z"
    }
   },
   "outputs": [
    {
     "data": {
      "text/plain": [
       "'30-Mar-2021'"
      ]
     },
     "execution_count": 3,
     "metadata": {},
     "output_type": "execute_result"
    }
   ],
   "source": [
    "datetime.datetime.today().strftime('%d-%b-%Y') "
   ]
  },
  {
   "cell_type": "code",
   "execution_count": 7,
   "id": "amateur-amplifier",
   "metadata": {
    "ExecuteTime": {
     "end_time": "2021-03-30T11:50:35.295265Z",
     "start_time": "2021-03-30T11:49:58.338122Z"
    }
   },
   "outputs": [
    {
     "name": "stdout",
     "output_type": "stream",
     "text": [
      "itop_210326.rar application/octet-stream\n"
     ]
    }
   ],
   "source": [
    "date_jour = datetime.datetime.today().strftime('%d-%b-%Y')  # 25-Mar-2021\n",
    "\n",
    "\n",
    "\n",
    "with MailBox(params['IMAP_URL']).login(params['USER_MAIL'],params['PASSWORD']) as mailbox:\n",
    "    for msg in mailbox.fetch('TEXT \"ITOP SERVICE REPORT\" ON {}'.format(date_jour)):\n",
    "        if msg.from_ == params['CONTACT_MAIL']:   \n",
    "            for att in msg.attachments:\n",
    "                print(att.filename, att.content_type)\n",
    "                with open('../data_storage/log_file.txt', 'a') as f:\n",
    "                    f.write(f'\\n======== date :{date_jour}========\\n content :{att.content_type}\\n files name:{att.filename}')\n",
    "                 \n",
    "                with open('../data_storage/itop/{}'.format(att.filename), 'wb') as f:\n",
    "                    f.write(att.payload)"
   ]
  },
  {
   "cell_type": "code",
   "execution_count": 8,
   "id": "economic-schedule",
   "metadata": {
    "ExecuteTime": {
     "end_time": "2021-03-30T12:04:31.120357Z",
     "start_time": "2021-03-30T12:04:31.113343Z"
    }
   },
   "outputs": [],
   "source": [
    "date_jour = datetime.datetime.today().strftime('%d-%b-%Y')  # 25-Mar-2021\n",
    "\n",
    "\n",
    "def emailLoader(dateJ:str,configuration:dict, path:str):\n",
    "    '''\n",
    "    Cette fonction telecharge les pieces jointes reçues par mail\n",
    "    params: Elle prend trois parametres, la date du jour, la configuration des adresses mails et le dossier de destination\n",
    "    return: Elle retourne les pieces jointes dans un dossier specifié en parametre\n",
    "    '''\n",
    "\n",
    "    with MailBox(params['IMAP_URL']).login(params['USER_MAIL'],params['PASSWORD']) as mailbox:\n",
    "        for msg in mailbox.fetch('TEXT \"ITOP SERVICE REPORT\" ON {}'.format(dateJ)):\n",
    "            if msg.from_ == params['CONTACT_MAIL']:   \n",
    "                for att in msg.attachments:\n",
    "                    print(att.filename, att.content_type)\n",
    "                    with open('../data_storage/log_file.txt', 'a') as f:\n",
    "                        f.write(f'\\n======== date :{dateJ}========\\n content :{att.content_type}\\n files name:{att.filename}')\n",
    "\n",
    "                    with open(os.path.join(path,att.filename), 'wb') as f:\n",
    "                        f.write(att.payload)"
   ]
  },
  {
   "cell_type": "code",
   "execution_count": null,
   "id": "working-lambda",
   "metadata": {},
   "outputs": [],
   "source": []
  },
  {
   "cell_type": "code",
   "execution_count": null,
   "id": "stock-heaven",
   "metadata": {},
   "outputs": [],
   "source": []
  },
  {
   "cell_type": "code",
   "execution_count": null,
   "id": "maritime-rescue",
   "metadata": {},
   "outputs": [],
   "source": []
  },
  {
   "cell_type": "code",
   "execution_count": null,
   "id": "generic-leadership",
   "metadata": {},
   "outputs": [],
   "source": []
  },
  {
   "cell_type": "code",
   "execution_count": null,
   "id": "superb-ordinary",
   "metadata": {
    "ExecuteTime": {
     "end_time": "2021-03-29T20:11:31.290302Z",
     "start_time": "2021-03-29T20:11:29.869799Z"
    }
   },
   "outputs": [],
   "source": [
    "files_path = os.path.join('..','data_storage','itop')\n",
    "elements = os.listdir(path=files_path)\n",
    "for file in elements:\n",
    "    if file.endswith('.rar'):\n",
    "        file_path = os.path.join('..','data_storage','itop',file)\n",
    "        rar = rarfile.RarFile(file_path)\n",
    "        rar.extractall(path=files_path)\n",
    "        "
   ]
  },
  {
   "cell_type": "code",
   "execution_count": 11,
   "id": "understanding-expansion",
   "metadata": {
    "ExecuteTime": {
     "end_time": "2021-03-30T12:08:58.673958Z",
     "start_time": "2021-03-30T12:08:58.668942Z"
    }
   },
   "outputs": [],
   "source": [
    "def extractFile(input_path):\n",
    "    \n",
    "    elements = os.listdir(path=input_path)\n",
    "    for file in elements:\n",
    "        if file.endswith('.rar'):\n",
    "            file_path = os.path.join(input_path,file)\n",
    "            rar = rarfile.RarFile(file_path)\n",
    "            rar.extractall(path=input_path)\n",
    "            del file\n",
    "            del file_path\n",
    "            del rar\n",
    "            \n",
    "\n"
   ]
  },
  {
   "cell_type": "code",
   "execution_count": null,
   "id": "marine-tampa",
   "metadata": {
    "ExecuteTime": {
     "start_time": "2021-03-30T12:09:19.261Z"
    }
   },
   "outputs": [],
   "source": [
    "params = config()\n",
    "date_jour = datetime.datetime.today().strftime('%d-%b-%Y') \n",
    "files_path = os.path.join('..','data_storage','itop')\n",
    "emailLoader(dateJ=date_jour,configuration=params, path=files_path)\n",
    "extractFile(input_path=files_path)"
   ]
  },
  {
   "cell_type": "code",
   "execution_count": null,
   "id": "vertical-output",
   "metadata": {},
   "outputs": [],
   "source": []
  }
 ],
 "metadata": {
  "kernelspec": {
   "display_name": "Python 3",
   "language": "python",
   "name": "python3"
  },
  "language_info": {
   "codemirror_mode": {
    "name": "ipython",
    "version": 3
   },
   "file_extension": ".py",
   "mimetype": "text/x-python",
   "name": "python",
   "nbconvert_exporter": "python",
   "pygments_lexer": "ipython3",
   "version": "3.7.9"
  },
  "latex_envs": {
   "LaTeX_envs_menu_present": true,
   "autoclose": false,
   "autocomplete": true,
   "bibliofile": "biblio.bib",
   "cite_by": "apalike",
   "current_citInitial": 1,
   "eqLabelWithNumbers": true,
   "eqNumInitial": 1,
   "hotkeys": {
    "equation": "Ctrl-E",
    "itemize": "Ctrl-I"
   },
   "labels_anchors": false,
   "latex_user_defs": false,
   "report_style_numbering": false,
   "user_envs_cfg": false
  },
  "toc": {
   "base_numbering": 1,
   "nav_menu": {},
   "number_sections": true,
   "sideBar": true,
   "skip_h1_title": false,
   "title_cell": "Table of Contents",
   "title_sidebar": "Contents",
   "toc_cell": false,
   "toc_position": {},
   "toc_section_display": true,
   "toc_window_display": false
  }
 },
 "nbformat": 4,
 "nbformat_minor": 5
}
